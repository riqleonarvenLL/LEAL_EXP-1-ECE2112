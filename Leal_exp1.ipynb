{
 "cells": [
  {
   "cell_type": "code",
   "execution_count": 4,
   "id": "e913c91a-e039-4e88-8580-a1a2efbfde01",
   "metadata": {},
   "outputs": [
    {
     "name": "stdin",
     "output_type": "stream",
     "text": [
      "Type a word:  hello\n"
     ]
    },
    {
     "name": "stdout",
     "output_type": "stream",
     "text": [
      "Sorted string: ehllo\n"
     ]
    }
   ],
   "source": [
    "def sortstring():  # define a function\n",
    "    user_input = input(\"Type a word: \")  # let user input their word of choice\n",
    "    return ''.join(sorted(user_input))   # Return the sorted string\n",
    "# # set sortedstring variable's value to the user's inputted string or word with the custom function\n",
    "sorted_string = sortstring()\n",
    "# Print the result\n",
    "print(\"Sorted string:\", sorted_string)"
   ]
  },
  {
   "cell_type": "code",
   "execution_count": 5,
   "id": "8dfd43b5-a8f3-4dfc-8f6c-0c5a7d2ac7c5",
   "metadata": {},
   "outputs": [
    {
     "name": "stdin",
     "output_type": "stream",
     "text": [
      "Type a word:  mad\n"
     ]
    },
    {
     "name": "stdout",
     "output_type": "stream",
     "text": [
      ">:(\n"
     ]
    }
   ],
   "source": [
    "def replace_emoticons(): # define a function\n",
    "    emoticons = {\"smile\": \":)\", \"grin\": \":D\", \"sad\": \":((\", \"mad\": \">:(\"} # define the elements (key pairs) of the dictionary\n",
    "\n",
    "    sentence = input(\"Type a word: \") # let user input their word of choice\n",
    "    words = sentence.split() # the split syntax is called on the sentence \n",
    "    new_sentence = [] # define a new list that stores the appended sentence in the for loop\n",
    "\n",
    "    for word in words: # use for loop \n",
    "        if word in emoticons: # use if loop to check whether the sentence has an element in the emoticons dictionary\n",
    "            new_sentence.append(emoticons[word]) # if an element was found, append the emoticons to the word/s that is present in the sentence given by the user to the new_sentence list\n",
    "        else:\n",
    "            new_sentence.append(word) # if an element was not found, just append the whole sentence into the new_sentence list\n",
    "\n",
    "    return \" \".join(new_sentence) # use return '' to return the space character and the whole output, used syntax .join to concatenate the user's inputted string \n",
    "\n",
    "print(replace_emoticons()) # print the final output\n",
    "\n"
   ]
  },
  {
   "cell_type": "code",
   "execution_count": 6,
   "id": "a2e04e07-c78c-4aa0-a16f-59b2f9867e2c",
   "metadata": {},
   "outputs": [
    {
     "name": "stdout",
     "output_type": "stream",
     "text": [
      "First: 1\n",
      "Middle: [2, 3, 4, 5]\n",
      "Last: 6\n"
     ]
    }
   ],
   "source": [
    "writeyourcodehere = [1,2,3,4,5,6] # set writeyourcodehere variable's list elements to 1,2,3,4,5,6\n",
    "\n",
    "first, *middle, last = writeyourcodehere # set the unpacking syntax\n",
    "\n",
    "print(\"First:\", first) # print the first element\n",
    "print(\"Middle:\", middle) # print the middle element/s\n",
    "print(\"Last:\", last) # print the last element\n"
   ]
  },
  {
   "cell_type": "code",
   "execution_count": null,
   "id": "cacaec0e-ae71-40ee-8a79-b7862af1e20d",
   "metadata": {},
   "outputs": [],
   "source": []
  }
 ],
 "metadata": {
  "kernelspec": {
   "display_name": "anaconda-2024.02-py310",
   "language": "python",
   "name": "conda-env-anaconda-2024.02-py310-py"
  },
  "language_info": {
   "codemirror_mode": {
    "name": "ipython",
    "version": 3
   },
   "file_extension": ".py",
   "mimetype": "text/x-python",
   "name": "python",
   "nbconvert_exporter": "python",
   "pygments_lexer": "ipython3",
   "version": "3.10.14"
  }
 },
 "nbformat": 4,
 "nbformat_minor": 5
}
